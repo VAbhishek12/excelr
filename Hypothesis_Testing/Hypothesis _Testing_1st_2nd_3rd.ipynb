{
 "cells": [
  {
   "cell_type": "markdown",
   "id": "2a19024b",
   "metadata": {},
   "source": [
    "1}\n",
    "A F&B manager wants to determine whether there is any significant difference in the \n",
    "diameter of the cutlet between two units. A randomly selected sample of cutlets was \n",
    "collected from both units and measured? Analyze the data and draw inferences at 5% significance level. \n",
    "Please state the assumptions and tests that you carried out to check validity of the assumptions.\n",
    "\n",
    "Minitab File : Cutlets.csv\n"
   ]
  },
  {
   "cell_type": "code",
   "execution_count": 1,
   "id": "38f16be4",
   "metadata": {},
   "outputs": [
    {
     "data": {
      "text/plain": [
       "(35, 2)"
      ]
     },
     "execution_count": 1,
     "metadata": {},
     "output_type": "execute_result"
    }
   ],
   "source": [
    "import pandas as pd\n",
    "df = pd.read_csv(\"Cutlets.csv\")\n",
    "df.shape"
   ]
  },
  {
   "cell_type": "code",
   "execution_count": 2,
   "id": "a39e66fc",
   "metadata": {},
   "outputs": [
    {
     "data": {
      "text/html": [
       "<div>\n",
       "<style scoped>\n",
       "    .dataframe tbody tr th:only-of-type {\n",
       "        vertical-align: middle;\n",
       "    }\n",
       "\n",
       "    .dataframe tbody tr th {\n",
       "        vertical-align: top;\n",
       "    }\n",
       "\n",
       "    .dataframe thead th {\n",
       "        text-align: right;\n",
       "    }\n",
       "</style>\n",
       "<table border=\"1\" class=\"dataframe\">\n",
       "  <thead>\n",
       "    <tr style=\"text-align: right;\">\n",
       "      <th></th>\n",
       "      <th>Unit A</th>\n",
       "      <th>Unit B</th>\n",
       "    </tr>\n",
       "  </thead>\n",
       "  <tbody>\n",
       "    <tr>\n",
       "      <th>0</th>\n",
       "      <td>6.8090</td>\n",
       "      <td>6.7703</td>\n",
       "    </tr>\n",
       "    <tr>\n",
       "      <th>1</th>\n",
       "      <td>6.4376</td>\n",
       "      <td>7.5093</td>\n",
       "    </tr>\n",
       "    <tr>\n",
       "      <th>2</th>\n",
       "      <td>6.9157</td>\n",
       "      <td>6.7300</td>\n",
       "    </tr>\n",
       "    <tr>\n",
       "      <th>3</th>\n",
       "      <td>7.3012</td>\n",
       "      <td>6.7878</td>\n",
       "    </tr>\n",
       "    <tr>\n",
       "      <th>4</th>\n",
       "      <td>7.4488</td>\n",
       "      <td>7.1522</td>\n",
       "    </tr>\n",
       "  </tbody>\n",
       "</table>\n",
       "</div>"
      ],
      "text/plain": [
       "   Unit A  Unit B\n",
       "0  6.8090  6.7703\n",
       "1  6.4376  7.5093\n",
       "2  6.9157  6.7300\n",
       "3  7.3012  6.7878\n",
       "4  7.4488  7.1522"
      ]
     },
     "execution_count": 2,
     "metadata": {},
     "output_type": "execute_result"
    }
   ],
   "source": [
    "df.head()"
   ]
  },
  {
   "cell_type": "code",
   "execution_count": 3,
   "id": "b950681b",
   "metadata": {},
   "outputs": [
    {
     "name": "stdout",
     "output_type": "stream",
     "text": [
      "t_statistic value: 0.7228688704678063\n",
      "p_values : 0.4722394724599501\n"
     ]
    }
   ],
   "source": [
    "from scipy.stats import ttest_ind\n",
    "\n",
    "# Perform two-sample t-test....\n",
    "t_statistic, p_value = ttest_ind(df['Unit A'],df['Unit B'])\n",
    "\n",
    "\n",
    "print(\"t_statistic value:\", t_statistic)\n",
    "print(\"p_values :\",p_value)"
   ]
  },
  {
   "cell_type": "code",
   "execution_count": 4,
   "id": "7fd68dc1",
   "metadata": {},
   "outputs": [
    {
     "data": {
      "text/plain": [
       "'T-statistic: 0.7228688704678063\\nP-value: 0.4722394724599501\\nThe t-statistic is 0.7228688704678063, and the p-value is 0.4722394724599501. \\nSince the p-value is greater than the significance level of 0.05, \\nwe fail to reject the null hypothesis. \\nThis means there is no significant evidence to suggest a difference in the mean diameter of\\ncutlets between Unit A and Unit B at the 5% significance level.\\n'"
      ]
     },
     "execution_count": 4,
     "metadata": {},
     "output_type": "execute_result"
    }
   ],
   "source": [
    "'''T-statistic: 0.7228688704678063\n",
    "P-value: 0.4722394724599501\n",
    "The t-statistic is 0.7228688704678063, and the p-value is 0.4722394724599501. \n",
    "Since the p-value is greater than the significance level of 0.05, \n",
    "we fail to reject the null hypothesis. \n",
    "This means there is no significant evidence to suggest a difference in the mean diameter of\n",
    "cutlets between Unit A and Unit B at the 5% significance level.\n",
    "'''"
   ]
  },
  {
   "cell_type": "code",
   "execution_count": 5,
   "id": "21881e5a",
   "metadata": {},
   "outputs": [
    {
     "name": "stdout",
     "output_type": "stream",
     "text": [
      "Normality Test for Unit A: ShapiroResult(statistic=0.9649458527565002, pvalue=0.3199819028377533)\n",
      "Normality Test for Unit B: ShapiroResult(statistic=0.9727300405502319, pvalue=0.5224985480308533)\n",
      "Equality of Variances Test: LeveneResult(statistic=0.6650897638632386, pvalue=0.4176162212502553)\n"
     ]
    }
   ],
   "source": [
    "from scipy.stats import shapiro, levene\n",
    "\n",
    "# Check for normality\n",
    "normality_test_a = shapiro(df['Unit A'])\n",
    "normality_test_b = shapiro(df['Unit B'])\n",
    "\n",
    "# Check for equality of variances\n",
    "variance_test = levene(df['Unit A'], df['Unit B'])\n",
    "\n",
    "print('Normality Test for Unit A:', normality_test_a)\n",
    "print('Normality Test for Unit B:', normality_test_b)\n",
    "print('Equality of Variances Test:', variance_test)"
   ]
  },
  {
   "cell_type": "code",
   "execution_count": 6,
   "id": "74ed3716",
   "metadata": {},
   "outputs": [
    {
     "data": {
      "text/plain": [
       "'The results of the tests are as follows:\\nNormality Test for Unit A: p-value = 0.320\\nNormality Test for Unit B: p-value = 0.522\\nEquality of Variances Test: p-value = 0.418'"
      ]
     },
     "execution_count": 6,
     "metadata": {},
     "output_type": "execute_result"
    }
   ],
   "source": [
    "'''The results of the tests are as follows:\n",
    "Normality Test for Unit A: p-value = 0.320\n",
    "Normality Test for Unit B: p-value = 0.522\n",
    "Equality of Variances Test: p-value = 0.418'''"
   ]
  },
  {
   "cell_type": "code",
   "execution_count": null,
   "id": "3302d12c",
   "metadata": {},
   "outputs": [],
   "source": []
  },
  {
   "cell_type": "markdown",
   "id": "7781448b",
   "metadata": {},
   "source": [
    "2}    A hospital wants to determine whether there is any difference in the average Turn Around Time (TAT) of reports of \n",
    "the laboratories on their preferred list. They collected a random sample and recorded TAT for reports of 4 laboratories. \n",
    "TAT is defined as sample collected to report dispatch.\n",
    "   \n",
    "Analyze the data and determine whether there is any difference in average TAT among the different \n",
    "laboratories at 5% significance level.\n",
    " \n",
    " \n",
    "Minitab File: LabTAT.csv\n",
    "\n"
   ]
  },
  {
   "cell_type": "code",
   "execution_count": 7,
   "id": "efb0d634",
   "metadata": {},
   "outputs": [
    {
     "data": {
      "text/plain": [
       "(120, 4)"
      ]
     },
     "execution_count": 7,
     "metadata": {},
     "output_type": "execute_result"
    }
   ],
   "source": [
    "import numpy as np\n",
    "import pandas as pd\n",
    "\n",
    "df2 = pd.read_csv(\"LabTAT.csv\")\n",
    "df2.shape"
   ]
  },
  {
   "cell_type": "code",
   "execution_count": 8,
   "id": "90fd29cf",
   "metadata": {},
   "outputs": [
    {
     "data": {
      "text/html": [
       "<div>\n",
       "<style scoped>\n",
       "    .dataframe tbody tr th:only-of-type {\n",
       "        vertical-align: middle;\n",
       "    }\n",
       "\n",
       "    .dataframe tbody tr th {\n",
       "        vertical-align: top;\n",
       "    }\n",
       "\n",
       "    .dataframe thead th {\n",
       "        text-align: right;\n",
       "    }\n",
       "</style>\n",
       "<table border=\"1\" class=\"dataframe\">\n",
       "  <thead>\n",
       "    <tr style=\"text-align: right;\">\n",
       "      <th></th>\n",
       "      <th>Laboratory 1</th>\n",
       "      <th>Laboratory 2</th>\n",
       "      <th>Laboratory 3</th>\n",
       "      <th>Laboratory 4</th>\n",
       "    </tr>\n",
       "  </thead>\n",
       "  <tbody>\n",
       "    <tr>\n",
       "      <th>0</th>\n",
       "      <td>185.35</td>\n",
       "      <td>165.53</td>\n",
       "      <td>176.70</td>\n",
       "      <td>166.13</td>\n",
       "    </tr>\n",
       "    <tr>\n",
       "      <th>1</th>\n",
       "      <td>170.49</td>\n",
       "      <td>185.91</td>\n",
       "      <td>198.45</td>\n",
       "      <td>160.79</td>\n",
       "    </tr>\n",
       "    <tr>\n",
       "      <th>2</th>\n",
       "      <td>192.77</td>\n",
       "      <td>194.92</td>\n",
       "      <td>201.23</td>\n",
       "      <td>185.18</td>\n",
       "    </tr>\n",
       "    <tr>\n",
       "      <th>3</th>\n",
       "      <td>177.33</td>\n",
       "      <td>183.00</td>\n",
       "      <td>199.61</td>\n",
       "      <td>176.42</td>\n",
       "    </tr>\n",
       "    <tr>\n",
       "      <th>4</th>\n",
       "      <td>193.41</td>\n",
       "      <td>169.57</td>\n",
       "      <td>204.63</td>\n",
       "      <td>152.60</td>\n",
       "    </tr>\n",
       "  </tbody>\n",
       "</table>\n",
       "</div>"
      ],
      "text/plain": [
       "   Laboratory 1  Laboratory 2  Laboratory 3  Laboratory 4\n",
       "0        185.35        165.53        176.70        166.13\n",
       "1        170.49        185.91        198.45        160.79\n",
       "2        192.77        194.92        201.23        185.18\n",
       "3        177.33        183.00        199.61        176.42\n",
       "4        193.41        169.57        204.63        152.60"
      ]
     },
     "execution_count": 8,
     "metadata": {},
     "output_type": "execute_result"
    }
   ],
   "source": [
    "df2.head()"
   ]
  },
  {
   "cell_type": "code",
   "execution_count": 9,
   "id": "bdb0c6e2",
   "metadata": {},
   "outputs": [
    {
     "data": {
      "text/plain": [
       "(118.70421654401437, 2.1156708949992414e-57)"
      ]
     },
     "execution_count": 9,
     "metadata": {},
     "output_type": "execute_result"
    }
   ],
   "source": [
    "import scipy.stats as stats\n",
    "\n",
    "# Perform one-way ANOVA\n",
    "f_statistic, p_value = stats.f_oneway(df2['Laboratory 1'], df2['Laboratory 2'], df2['Laboratory 3'], df2['Laboratory 4'])\n",
    "\n",
    "f_statistic, p_value"
   ]
  },
  {
   "cell_type": "code",
   "execution_count": 10,
   "id": "d40bb5fa",
   "metadata": {},
   "outputs": [
    {
     "data": {
      "text/plain": [
       "'\\nThe ANOVA test results indicate the following:\\n\\nThe F-statistic is approximately 118.70.\\nThe p-value is very close to 0 (2.12e-57).'"
      ]
     },
     "execution_count": 10,
     "metadata": {},
     "output_type": "execute_result"
    }
   ],
   "source": [
    "'''\n",
    "The ANOVA test results indicate the following:\n",
    "\n",
    "The F-statistic is approximately 118.70.\n",
    "The p-value is very close to 0 (2.12e-57).'''"
   ]
  },
  {
   "cell_type": "code",
   "execution_count": null,
   "id": "4903c8cd",
   "metadata": {},
   "outputs": [],
   "source": []
  },
  {
   "cell_type": "markdown",
   "id": "a6a15a5f",
   "metadata": {},
   "source": [
    "3} Sales of products in four different regions is tabulated for males and females. \n",
    "Find if male-female buyer rations are similar across regions.\n"
   ]
  },
  {
   "cell_type": "code",
   "execution_count": 11,
   "id": "2acd0cce",
   "metadata": {},
   "outputs": [
    {
     "data": {
      "text/plain": [
       "(2, 5)"
      ]
     },
     "execution_count": 11,
     "metadata": {},
     "output_type": "execute_result"
    }
   ],
   "source": [
    "import pandas as pd\n",
    "import numpy as np\n",
    "\n",
    "df3 = pd.read_csv(\"BuyerRatio.csv\")\n",
    "df3.shape"
   ]
  },
  {
   "cell_type": "code",
   "execution_count": 12,
   "id": "672ea6b7",
   "metadata": {},
   "outputs": [
    {
     "data": {
      "text/html": [
       "<div>\n",
       "<style scoped>\n",
       "    .dataframe tbody tr th:only-of-type {\n",
       "        vertical-align: middle;\n",
       "    }\n",
       "\n",
       "    .dataframe tbody tr th {\n",
       "        vertical-align: top;\n",
       "    }\n",
       "\n",
       "    .dataframe thead th {\n",
       "        text-align: right;\n",
       "    }\n",
       "</style>\n",
       "<table border=\"1\" class=\"dataframe\">\n",
       "  <thead>\n",
       "    <tr style=\"text-align: right;\">\n",
       "      <th></th>\n",
       "      <th>Observed Values</th>\n",
       "      <th>East</th>\n",
       "      <th>West</th>\n",
       "      <th>North</th>\n",
       "      <th>South</th>\n",
       "    </tr>\n",
       "  </thead>\n",
       "  <tbody>\n",
       "    <tr>\n",
       "      <th>0</th>\n",
       "      <td>Males</td>\n",
       "      <td>50</td>\n",
       "      <td>142</td>\n",
       "      <td>131</td>\n",
       "      <td>70</td>\n",
       "    </tr>\n",
       "    <tr>\n",
       "      <th>1</th>\n",
       "      <td>Females</td>\n",
       "      <td>435</td>\n",
       "      <td>1523</td>\n",
       "      <td>1356</td>\n",
       "      <td>750</td>\n",
       "    </tr>\n",
       "  </tbody>\n",
       "</table>\n",
       "</div>"
      ],
      "text/plain": [
       "  Observed Values  East  West  North  South\n",
       "0           Males    50   142    131     70\n",
       "1         Females   435  1523   1356    750"
      ]
     },
     "execution_count": 12,
     "metadata": {},
     "output_type": "execute_result"
    }
   ],
   "source": [
    "df3.head()"
   ]
  },
  {
   "cell_type": "code",
   "execution_count": 13,
   "id": "d703f521",
   "metadata": {},
   "outputs": [
    {
     "name": "stdout",
     "output_type": "stream",
     "text": [
      "Chi-square statistic: 1.595945538661058\n",
      "p-value: 0.6603094907091882\n",
      "Degrees of freedom: 3\n",
      "Expected frequencies: [[  42.76531299  146.81287862  131.11756787   72.30424052]\n",
      " [ 442.23468701 1518.18712138 1355.88243213  747.69575948]]\n"
     ]
    }
   ],
   "source": [
    "from scipy.stats import chi2_contingency\n",
    "\n",
    "# Extracting the data for the analysis\n",
    "observed_values = df3.iloc[:, 1:].values\n",
    "\n",
    "# Performing the Chi-Square Test\n",
    "chi2, p, dof, expected = chi2_contingency(observed_values)\n",
    "\n",
    "print('Chi-square statistic:', chi2)\n",
    "print('p-value:', p)\n",
    "print('Degrees of freedom:', dof)\n",
    "print('Expected frequencies:\\\n",
    "', expected)"
   ]
  },
  {
   "cell_type": "code",
   "execution_count": 14,
   "id": "02acdcf3",
   "metadata": {},
   "outputs": [
    {
     "data": {
      "text/plain": [
       "'\\nThe p-value of the Chi-Square test for independence is 0.6603, which is greater than the typical alpha level of 0.05.\\nTherefore, we fail to reject the null hypothesis. \\nThis means that there is no significant difference in the male-female\\nbuyer ratios across the four regions (East, West, North, South). \\nThe male-female buyer ratios are similar across the regions.\\n'"
      ]
     },
     "execution_count": 14,
     "metadata": {},
     "output_type": "execute_result"
    }
   ],
   "source": [
    "'''\n",
    "The p-value of the Chi-Square test for independence is 0.6603, which is greater than the typical alpha level of 0.05.\n",
    "Therefore, we fail to reject the null hypothesis. \n",
    "This means that there is no significant difference in the male-female\n",
    "buyer ratios across the four regions (East, West, North, South). \n",
    "The male-female buyer ratios are similar across the regions.\n",
    "'''"
   ]
  }
 ],
 "metadata": {
  "kernelspec": {
   "display_name": "Python 3 (ipykernel)",
   "language": "python",
   "name": "python3"
  },
  "language_info": {
   "codemirror_mode": {
    "name": "ipython",
    "version": 3
   },
   "file_extension": ".py",
   "mimetype": "text/x-python",
   "name": "python",
   "nbconvert_exporter": "python",
   "pygments_lexer": "ipython3",
   "version": "3.9.12"
  }
 },
 "nbformat": 4,
 "nbformat_minor": 5
}
